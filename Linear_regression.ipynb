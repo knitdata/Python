{
  "nbformat": 4,
  "nbformat_minor": 0,
  "metadata": {
    "colab": {
      "name": "Linear.regression.ipynb",
      "provenance": [],
      "collapsed_sections": []
    },
    "kernelspec": {
      "name": "python3",
      "display_name": "Python 3"
    }
  },
  "cells": [
    {
      "cell_type": "markdown",
      "metadata": {
        "id": "l_LulNCC8z96"
      },
      "source": [
        "## Multiple Linear Regression on Fitbit Data"
      ]
    },
    {
      "cell_type": "markdown",
      "metadata": {
        "id": "xpXdowrE9DxW"
      },
      "source": [
        "## Importing the libraries"
      ]
    },
    {
      "cell_type": "code",
      "metadata": {
        "id": "1ftyd7c5eFUs"
      },
      "source": [
        "import numpy as np\n",
        "import matplotlib.pyplot as plt\n",
        "import pandas as pd\n",
        "import seaborn as sns\n",
        "%matplotlib inline"
      ],
      "execution_count": null,
      "outputs": []
    },
    {
      "cell_type": "markdown",
      "metadata": {
        "id": "6JhpWJi59J1p"
      },
      "source": [
        "## Importing the dataset"
      ]
    },
    {
      "cell_type": "markdown",
      "metadata": {
        "id": "1_70p0kiiVEE"
      },
      "source": [
        "Dataset is available at https://github.com/knitdata/minrblog/blob/master/content/post/eda/fitbit.csv . I am using activitities columns to predict calories burned. "
      ]
    },
    {
      "cell_type": "code",
      "metadata": {
        "id": "15x2LUMH453N"
      },
      "source": [
        "fit_bit = pd.read_csv('fitbit.csv')\n",
        "fit_bit = fit_bit[['Calories_Burned',\t'Steps',\t'Minutes_Sedentary',\t'Minutes_Lightly_Active',\t'Minutes_Fairly_Active',\t'Minutes_Very_Active', 'Activity_Calories']]\n"
      ],
      "execution_count": null,
      "outputs": []
    },
    {
      "cell_type": "code",
      "metadata": {
        "id": "ymg9MNt5CCv8"
      },
      "source": [
        "fit_bit = fit_bit.dropna()\n",
        "fit_bit['Steps']=fit_bit['Steps'].apply(lambda x: x.replace(',', '')).astype('float') \n",
        "fit_bit['Minutes_Sedentary']=fit_bit['Minutes_Sedentary'].apply(lambda x: x.replace(',', '')).astype('float') \n",
        "fit_bit['Calories_Burned']=fit_bit['Calories_Burned'].apply(lambda x: x.replace(',', '')).astype('float') \n",
        "fit_bit['Activity_Calories']=fit_bit['Activity_Calories'].apply(lambda x: x.replace(',', '')).astype('float')"
      ],
      "execution_count": null,
      "outputs": []
    },
    {
      "cell_type": "code",
      "metadata": {
        "id": "bxQ0zwjdAqDO"
      },
      "source": [
        "X = fit_bit[['Steps',\t'Minutes_Sedentary',\t'Minutes_Lightly_Active',\t'Minutes_Fairly_Active',\t'Minutes_Very_Active']]\n",
        "y = fit_bit[['Calories_Burned']]"
      ],
      "execution_count": null,
      "outputs": []
    },
    {
      "cell_type": "markdown",
      "metadata": {
        "id": "AyhQaTwP9RzG"
      },
      "source": [
        "## Splitting the dataset into the Training set and Test set"
      ]
    },
    {
      "cell_type": "code",
      "metadata": {
        "id": "YQBno6pNeyNL"
      },
      "source": [
        "from sklearn.model_selection import train_test_split\n",
        "X_train, X_test, y_train, y_test = train_test_split(X, y, test_size = 0.25, random_state = 0)"
      ],
      "execution_count": null,
      "outputs": []
    },
    {
      "cell_type": "markdown",
      "metadata": {
        "id": "ZijQwFMQ9itx"
      },
      "source": [
        "## Training the  Linear Regression model on the Training set"
      ]
    },
    {
      "cell_type": "code",
      "metadata": {
        "id": "LfbTqvW0fcV3",
        "outputId": "04a57c25-bbf0-4e32-8a62-5b40cae7b212",
        "colab": {
          "base_uri": "https://localhost:8080/",
          "height": 34
        }
      },
      "source": [
        "from sklearn.linear_model import LinearRegression\n",
        "regressor = LinearRegression() # instantiate class to create object \n",
        "regressor.fit(X_train, y_train) # train regression model "
      ],
      "execution_count": null,
      "outputs": [
        {
          "output_type": "execute_result",
          "data": {
            "text/plain": [
              "LinearRegression(copy_X=True, fit_intercept=True, n_jobs=None, normalize=False)"
            ]
          },
          "metadata": {
            "tags": []
          },
          "execution_count": 25
        }
      ]
    },
    {
      "cell_type": "code",
      "metadata": {
        "id": "bgsYoWB7xBCC",
        "outputId": "6a07b5b7-1bbd-4cef-ccc4-8cdbf4a156cc",
        "colab": {
          "base_uri": "https://localhost:8080/",
          "height": 34
        }
      },
      "source": [
        "print(regressor.intercept_)"
      ],
      "execution_count": null,
      "outputs": [
        {
          "output_type": "stream",
          "text": [
            "[1872.46166302]\n"
          ],
          "name": "stdout"
        }
      ]
    },
    {
      "cell_type": "code",
      "metadata": {
        "id": "iDv2Hr9IBbTf",
        "outputId": "72a0f913-d949-4b1d-abdd-437b42c65aab",
        "colab": {
          "base_uri": "https://localhost:8080/",
          "height": 34
        }
      },
      "source": [
        "regressor.coef_"
      ],
      "execution_count": null,
      "outputs": [
        {
          "output_type": "execute_result",
          "data": {
            "text/plain": [
              "array([[ 0.04748125, -0.05115503,  1.36915693,  2.87010148,  2.24467801]])"
            ]
          },
          "metadata": {
            "tags": []
          },
          "execution_count": 28
        }
      ]
    },
    {
      "cell_type": "markdown",
      "metadata": {
        "id": "9o_jgTWfVDHp"
      },
      "source": [
        "**Calories_Burned = 1872.46 + 0.48(Steps) -0.05(Minutes_Sedentary) + 1.36(Minutes_Lightly_Active) + 2.87(Minutes_Fairly_Active) + 2.24(Minutes_Very_Active)**"
      ]
    },
    {
      "cell_type": "markdown",
      "metadata": {
        "id": "wa2T1Lq89o5H"
      },
      "source": [
        "## Predicting the Test set results"
      ]
    },
    {
      "cell_type": "code",
      "metadata": {
        "id": "5fzhEOwcjByW",
        "outputId": "51d26b36-7c9f-4402-d9d5-148496656e0c",
        "colab": {
          "base_uri": "https://localhost:8080/",
          "height": 296
        }
      },
      "source": [
        "y_pred = regressor.predict(X_test)\n",
        "plt.scatter(y_test, y_pred)\n",
        "plt.xlabel('True Values')\n",
        "plt.ylabel('Predicted Values')"
      ],
      "execution_count": null,
      "outputs": [
        {
          "output_type": "execute_result",
          "data": {
            "text/plain": [
              "Text(0, 0.5, 'Predicted Values')"
            ]
          },
          "metadata": {
            "tags": []
          },
          "execution_count": 29
        },
        {
          "output_type": "display_data",
          "data": {
            "image/png": "[encoded data removed]",
            "text/plain": [
              "<Figure size 432x288 with 1 Axes>"
            ]
          },
          "metadata": {
            "tags": [],
            "needs_background": "light"
          }
        }
      ]
    },
    {
      "cell_type": "code",
      "metadata": {
        "id": "HlATi3CwyKxm",
        "outputId": "112d4f2e-66ae-4374-b9c0-844e5633809b",
        "colab": {
          "base_uri": "https://localhost:8080/",
          "height": 386
        }
      },
      "source": [
        "sns.displot((y_test-y_pred), kind = 'kde') # residuals"
      ],
      "execution_count": null,
      "outputs": [
        {
          "output_type": "execute_result",
          "data": {
            "text/plain": [
              "<seaborn.axisgrid.FacetGrid at 0x7f537d579978>"
            ]
          },
          "metadata": {
            "tags": []
          },
          "execution_count": 30
        },
        {
          "output_type": "display_data",
          "data": {
            "image/png": "[encoded data removed]",
            "text/plain": [
              "<Figure size 477.375x360 with 1 Axes>"
            ]
          },
          "metadata": {
            "tags": [],
            "needs_background": "light"
          }
        }
      ]
    },
    {
      "cell_type": "code",
      "metadata": {
        "id": "Ns9tPf_2I-fh"
      },
      "source": [
        "from sklearn import metrics"
      ],
      "execution_count": null,
      "outputs": []
    },
    {
      "cell_type": "code",
      "metadata": {
        "id": "VerWuTOVTBgS",
        "outputId": "b7ec8cd9-61ff-4d83-95ec-f291558b72b4",
        "colab": {
          "base_uri": "https://localhost:8080/",
          "height": 85
        }
      },
      "source": [
        "print('MAE', metrics.mean_absolute_error(y_test, y_pred))\n",
        "print('MSE',metrics.mean_squared_error(y_test, y_pred))\n",
        "print('RMSE',np.sqrt(metrics.mean_squared_error(y_test, y_pred)))\n",
        "print('RSQ', metrics.explained_variance_score(y_test, y_pred))\n"
      ],
      "execution_count": null,
      "outputs": [
        {
          "output_type": "stream",
          "text": [
            "MAE 56.61601124164372\n",
            "MSE 5104.160637224747\n",
            "RMSE 71.44340863386032\n",
            "RSQ 0.8994620456116463\n"
          ],
          "name": "stdout"
        }
      ]
    }
  ]
}